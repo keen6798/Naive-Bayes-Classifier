{
 "cells": [
  {
   "cell_type": "markdown",
   "metadata": {},
   "source": [
    "# Naive Bayes Classifiers"
   ]
  },
  {
   "cell_type": "markdown",
   "metadata": {},
   "source": [
    "- Do any of your classifiers seem to overfit?\n",
    "\n",
    "   I do not think that my classifiers are overfitting. I think that if I increased the number of words chosen in my V2, V4, and V5 that they would start to overfit.\n",
    "\n",
    "\n",
    "- Which seem to perform the best? Why?\n",
    "\n",
    "    My V5 classifier seems to perform the best. It has the highest accuracy rate overall, including with cross-validation and it also seems to be the best at predicting the other groups (imdb and yelp). This is probably because the amazon reviews have words that are more in common with both yelp and imdb than the other way around. All of my classifiers, though, are roughly similar in how well they do. There isn't one that is very cleary much better than another. The only thing I can tell for sure is that V2 is clearly worse than the others. This could be because there several words that may sound like a 'good' word that can be turned in to a 'bad' review word. Take 'good' for example. This can easily be used in a bad review as well by just saying that the food is 'not good'. so 'Not' is a word likely found in only a bad review whereas 'good' may be found in both. This is why I think that finding bad reviews does better than finding good reviews. \n",
    "\n",
    "\n",
    "- Which features seemed to be most impactful to performance?\n",
    "\n",
    "    How I pick my words, and possibly how many words I pick are definitely impactful. As I mentioned previously, choosing whether to predict good or bad reviews makes a big difference as well. Thinking of my own words that might be found in a bad review was still pretty good, but writing a program to find the most common words used only in bad reviews worked just slightly better. "
   ]
  },
  {
   "cell_type": "code",
   "execution_count": null,
   "metadata": {},
   "outputs": [],
   "source": []
  }
 ],
 "metadata": {
  "kernelspec": {
   "display_name": "Python 3",
   "language": "python",
   "name": "python3"
  },
  "language_info": {
   "codemirror_mode": {
    "name": "ipython",
    "version": 3
   },
   "file_extension": ".py",
   "mimetype": "text/x-python",
   "name": "python",
   "nbconvert_exporter": "python",
   "pygments_lexer": "ipython3",
   "version": "3.7.0"
  }
 },
 "nbformat": 4,
 "nbformat_minor": 2
}
