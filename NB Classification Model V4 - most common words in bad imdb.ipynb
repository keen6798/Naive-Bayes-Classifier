{
 "cells": [
  {
   "cell_type": "code",
   "execution_count": 1,
   "metadata": {},
   "outputs": [],
   "source": [
    "import numpy as np\n",
    "import pandas as pd\n",
    "import matplotlib.pyplot as plt\n",
    "import seaborn as sns\n",
    "import nltk\n",
    "\n",
    "%matplotlib inline"
   ]
  },
  {
   "cell_type": "code",
   "execution_count": 2,
   "metadata": {},
   "outputs": [],
   "source": [
    "df = pd.read_csv('sentiment labelled sentences/imdb_labelled.txt', delimiter='\\t', header=None)\n",
    "\n",
    "df.columns = ['review', 'score']\n",
    "df['review'] = df['review'].str.lower()\n",
    "df['review'] = df['review'].str.replace('.', ' ')\n",
    "df['review'] = df['review'].str.replace(',', ' ')\n",
    "df['review'] = df['review'].str.replace('!', ' ')\n",
    "\n",
    "from nltk.corpus import stopwords\n",
    "stop = stopwords.words('english')\n",
    "\n",
    "words = df['review'].str.split().apply(lambda x: [item for item in x if item not in stop])\n",
    "\n",
    "#score - bad is 0, good is 1\n",
    "\n",
    "#turning score column into boolean - where True is BAD.\n",
    "#Don't run this column more than once!!! otherwise everything False\n",
    "df['score'] = (df['score'] == 0)"
   ]
  },
  {
   "cell_type": "code",
   "execution_count": 3,
   "metadata": {},
   "outputs": [
    {
     "data": {
      "text/plain": [
       "0.9378238341968912"
      ]
     },
     "execution_count": 3,
     "metadata": {},
     "output_type": "execute_result"
    }
   ],
   "source": [
    "np.sum(df['score']==True)/np.sum(df['score']==False)"
   ]
  },
  {
   "cell_type": "markdown",
   "metadata": {},
   "source": [
    "This indicates that there is no class imbalace since there are an equal number of good and bad reviews and there is not a significant difference between one or the other. "
   ]
  },
  {
   "cell_type": "code",
   "execution_count": 4,
   "metadata": {},
   "outputs": [
    {
     "data": {
      "text/html": [
       "<div>\n",
       "<style scoped>\n",
       "    .dataframe tbody tr th:only-of-type {\n",
       "        vertical-align: middle;\n",
       "    }\n",
       "\n",
       "    .dataframe tbody tr th {\n",
       "        vertical-align: top;\n",
       "    }\n",
       "\n",
       "    .dataframe thead th {\n",
       "        text-align: right;\n",
       "    }\n",
       "</style>\n",
       "<table border=\"1\" class=\"dataframe\">\n",
       "  <thead>\n",
       "    <tr style=\"text-align: right;\">\n",
       "      <th></th>\n",
       "      <th>review</th>\n",
       "      <th>score</th>\n",
       "    </tr>\n",
       "  </thead>\n",
       "  <tbody>\n",
       "    <tr>\n",
       "      <th>0</th>\n",
       "      <td>a very  very  very slow-moving  aimless movie ...</td>\n",
       "      <td>True</td>\n",
       "    </tr>\n",
       "    <tr>\n",
       "      <th>1</th>\n",
       "      <td>not sure who was more lost - the flat characte...</td>\n",
       "      <td>True</td>\n",
       "    </tr>\n",
       "    <tr>\n",
       "      <th>2</th>\n",
       "      <td>attempting artiness with black &amp; white and cle...</td>\n",
       "      <td>True</td>\n",
       "    </tr>\n",
       "    <tr>\n",
       "      <th>3</th>\n",
       "      <td>very little music or anything to speak of</td>\n",
       "      <td>True</td>\n",
       "    </tr>\n",
       "    <tr>\n",
       "      <th>4</th>\n",
       "      <td>the best scene in the movie was when gerardo i...</td>\n",
       "      <td>False</td>\n",
       "    </tr>\n",
       "  </tbody>\n",
       "</table>\n",
       "</div>"
      ],
      "text/plain": [
       "                                              review  score\n",
       "0  a very  very  very slow-moving  aimless movie ...   True\n",
       "1  not sure who was more lost - the flat characte...   True\n",
       "2  attempting artiness with black & white and cle...   True\n",
       "3       very little music or anything to speak of      True\n",
       "4  the best scene in the movie was when gerardo i...  False"
      ]
     },
     "execution_count": 4,
     "metadata": {},
     "output_type": "execute_result"
    }
   ],
   "source": [
    "df.head()"
   ]
  },
  {
   "cell_type": "code",
   "execution_count": 5,
   "metadata": {},
   "outputs": [],
   "source": [
    "bad = np.where(df['score'] == True)\n",
    "good = np.where(df['score'] == False)"
   ]
  },
  {
   "cell_type": "code",
   "execution_count": 6,
   "metadata": {},
   "outputs": [],
   "source": [
    "from collections import Counter \n",
    "\n",
    "n = 150\n",
    "\n",
    "Counter_bad = Counter(np.concatenate(np.asanyarray((words.iloc[bad])))) \n",
    "  \n",
    "# most_common() produces n frequently encountered \n",
    "# input values and their respective counts. \n",
    "most_occur_bad = np.asanyarray(Counter_bad.most_common(n))\n",
    "bad_words = most_occur_bad[:,0]\n",
    "\n",
    "\n",
    "Counter_good = Counter(np.concatenate(np.asanyarray((words.iloc[good])))) \n",
    "most_occur_good = np.asanyarray(Counter_good.most_common(n))\n",
    "good_words = most_occur_good[:,0]"
   ]
  },
  {
   "cell_type": "code",
   "execution_count": 7,
   "metadata": {},
   "outputs": [],
   "source": [
    "keywords = []\n",
    "\n",
    "for i in bad_words:\n",
    "    dup_found = False\n",
    "    for j in good_words:\n",
    "        if i == j:\n",
    "            dup_found = True\n",
    "    if not dup_found:\n",
    "        keywords.append(i)"
   ]
  },
  {
   "cell_type": "code",
   "execution_count": 8,
   "metadata": {},
   "outputs": [],
   "source": [
    "#chose these keywords based off of words that you might find most likely to be in a bad yelp review\n",
    "for key in keywords:\n",
    "    df[str(key)] = df.review.str.contains(str(key), case=False)"
   ]
  },
  {
   "cell_type": "code",
   "execution_count": 9,
   "metadata": {},
   "outputs": [
    {
     "data": {
      "image/png": "[encoded data removed]",
      "text/plain": [
       "<Figure size 720x576 with 2 Axes>"
      ]
     },
     "metadata": {},
     "output_type": "display_data"
    }
   ],
   "source": [
    "#making sure that my features are relatively independent of eachother.\n",
    "plt.figure(figsize = (10,8))\n",
    "sns.heatmap(df.corr())\n",
    "\n",
    "plt.show()"
   ]
  },
  {
   "cell_type": "code",
   "execution_count": 10,
   "metadata": {},
   "outputs": [],
   "source": [
    "#training data\n",
    "data = df[keywords]\n",
    "target = df['score']"
   ]
  },
  {
   "cell_type": "code",
   "execution_count": 11,
   "metadata": {},
   "outputs": [
    {
     "name": "stdout",
     "output_type": "stream",
     "text": [
      "Number of mislabeled points out of a total 748 points : 226\n",
      "30.213903743315505% mislabeled\n",
      "Number of correctly identified points out of a total 748 points : 522\n",
      "Accuracy = 69.79%\n",
      "confustion matrix: \n",
      " [[357  29]\n",
      " [197 165]]\n",
      "false positives: 197\n",
      "false negatives: 29\n",
      "sensitivity: 45.58%\n",
      "specificity: 92.49%\n"
     ]
    }
   ],
   "source": [
    "#since the data is binary, import Bernoulli class\n",
    "from sklearn.naive_bayes import BernoulliNB\n",
    "\n",
    "#instantiate our model and store it in a new variable\n",
    "bnb = BernoulliNB()\n",
    "\n",
    "#fit model to data\n",
    "bnb.fit(data, target)\n",
    "\n",
    "#classify, storing the result in a new variable\n",
    "y_pred = bnb.predict(data)\n",
    "\n",
    "#displaying results\n",
    "print('Number of mislabeled points out of a total {} points : {}'.format(data.shape[0], (target != y_pred).sum()))\n",
    "\n",
    "print('{}% mislabeled'.format((target != y_pred).sum()/data.shape[0]*100))\n",
    "\n",
    "# Calculate the accuracy of your model here.\n",
    "print('Number of correctly identified points out of a total {} points : {}'.format(\n",
    "    data.shape[0], \n",
    "    (target == y_pred).sum()\n",
    "))\n",
    "\n",
    "print('Accuracy = {:.4}%'.format((target == y_pred).sum()/data.shape[0]*100))\n",
    "\n",
    "from sklearn.metrics import confusion_matrix\n",
    "mat = confusion_matrix(target, y_pred)\n",
    "false_pos = mat[1][0]\n",
    "false_neg = mat[0][1]\n",
    "specificity = mat[0][0]/sum(mat[0])\n",
    "sensitivity = mat[1][1]/sum(mat[1])\n",
    "\n",
    "print('confustion matrix: \\n {}'.format(mat))\n",
    "print('false positives: {}'.format(false_pos))\n",
    "print('false negatives: {}'.format(false_neg))\n",
    "print('sensitivity: {:.4}%'.format(sensitivity*100))\n",
    "print('specificity: {:.4}%'.format(specificity*100))"
   ]
  },
  {
   "cell_type": "code",
   "execution_count": 12,
   "metadata": {},
   "outputs": [
    {
     "name": "stdout",
     "output_type": "stream",
     "text": [
      "[0.61842105 0.56578947 0.62666667 0.68       0.66666667 0.54666667\n",
      " 0.71621622 0.66216216 0.63513514 0.64864865]\n",
      "mean: 63.66372688477953%\n",
      "standard deviation: 4.843378227765786%\n"
     ]
    }
   ],
   "source": [
    "from sklearn.model_selection import cross_val_score\n",
    "cross_validation = cross_val_score(bnb, data, target, cv=10)\n",
    "\n",
    "print(cross_validation)\n",
    "print('mean: {}%'.format(np.mean(cross_validation)*100))\n",
    "print('standard deviation: {}%'.format(np.std(cross_validation)*100))"
   ]
  },
  {
   "cell_type": "code",
   "execution_count": 13,
   "metadata": {},
   "outputs": [],
   "source": [
    "# Implement your own cross validation with your spam model.\n",
    "def cross_validation(fit, data, target, k):\n",
    "    from sklearn.metrics import confusion_matrix\n",
    "\n",
    "    #fit = bnb\n",
    "    #k = number of folds - must be a value that allows equal split\n",
    "    \n",
    "    rand_data = data.sample(frac=1)\n",
    "    n_data = np.split(rand_data, indices_or_sections=k)\n",
    "    \n",
    "    vals = []\n",
    "    matrices = []\n",
    "    \n",
    "    for i in range(len(n_data)):\n",
    "        index = n_data[i].index\n",
    "        \n",
    "        test_data = data.drop(index, axis=0)\n",
    "        test_target = target.drop(index, axis=0)\n",
    "        vals.append(bnb.fit(test_data, test_target).score(n_data[i], target[index]))\n",
    "        \n",
    "        y_pred = bnb.predict(n_data[i])\n",
    "        matrices.append(confusion_matrix(target[index], y_pred))\n",
    "        \n",
    "    return vals, matrices"
   ]
  },
  {
   "cell_type": "code",
   "execution_count": 18,
   "metadata": {},
   "outputs": [
    {
     "name": "stdout",
     "output_type": "stream",
     "text": [
      "[0.6617647058823529, 0.6470588235294118, 0.6470588235294118, 0.6029411764705882, 0.7058823529411765, 0.5735294117647058, 0.7205882352941176, 0.6764705882352942, 0.6176470588235294, 0.6470588235294118, 0.6323529411764706]\n",
      "mean: 64.83957219251336%\n",
      "standard deviation: 4.085750478592549%\n",
      "k = 0\n",
      "accuracy: 66.17647058823529%\n",
      "confustion matrix: \n",
      " [[31  1]\n",
      " [22 14]]\n",
      "false positives: 22\n",
      "false negatives: 1\n",
      "sensitivity: 38.89%\n",
      "specificity: 96.88%\n",
      "\n",
      "\n",
      "k = 1\n",
      "accuracy: 64.70588235294117%\n",
      "confustion matrix: \n",
      " [[26  5]\n",
      " [19 18]]\n",
      "false positives: 19\n",
      "false negatives: 5\n",
      "sensitivity: 48.65%\n",
      "specificity: 83.87%\n",
      "\n",
      "\n",
      "k = 2\n",
      "accuracy: 64.70588235294117%\n",
      "confustion matrix: \n",
      " [[32  7]\n",
      " [17 12]]\n",
      "false positives: 17\n",
      "false negatives: 7\n",
      "sensitivity: 41.38%\n",
      "specificity: 82.05%\n",
      "\n",
      "\n",
      "k = 3\n",
      "accuracy: 60.29411764705882%\n",
      "confustion matrix: \n",
      " [[33  4]\n",
      " [23  8]]\n",
      "false positives: 23\n",
      "false negatives: 4\n",
      "sensitivity: 25.81%\n",
      "specificity: 89.19%\n",
      "\n",
      "\n",
      "k = 4\n",
      "accuracy: 70.58823529411765%\n",
      "confustion matrix: \n",
      " [[35  5]\n",
      " [15 13]]\n",
      "false positives: 15\n",
      "false negatives: 5\n",
      "sensitivity: 46.43%\n",
      "specificity: 87.5%\n",
      "\n",
      "\n",
      "k = 5\n",
      "accuracy: 57.35294117647059%\n",
      "confustion matrix: \n",
      " [[27  1]\n",
      " [28 12]]\n",
      "false positives: 28\n",
      "false negatives: 1\n",
      "sensitivity: 30.0%\n",
      "specificity: 96.43%\n",
      "\n",
      "\n",
      "k = 6\n",
      "accuracy: 72.05882352941177%\n",
      "confustion matrix: \n",
      " [[34  4]\n",
      " [15 15]]\n",
      "false positives: 15\n",
      "false negatives: 4\n",
      "sensitivity: 50.0%\n",
      "specificity: 89.47%\n",
      "\n",
      "\n",
      "k = 7\n",
      "accuracy: 67.64705882352942%\n",
      "confustion matrix: \n",
      " [[33  3]\n",
      " [19 13]]\n",
      "false positives: 19\n",
      "false negatives: 3\n",
      "sensitivity: 40.62%\n",
      "specificity: 91.67%\n",
      "\n",
      "\n",
      "k = 8\n",
      "accuracy: 61.76470588235294%\n",
      "confustion matrix: \n",
      " [[30  1]\n",
      " [25 12]]\n",
      "false positives: 25\n",
      "false negatives: 1\n",
      "sensitivity: 32.43%\n",
      "specificity: 96.77%\n",
      "\n",
      "\n",
      "k = 9\n",
      "accuracy: 64.70588235294117%\n",
      "confustion matrix: \n",
      " [[33  4]\n",
      " [20 11]]\n",
      "false positives: 20\n",
      "false negatives: 4\n",
      "sensitivity: 35.48%\n",
      "specificity: 89.19%\n",
      "\n",
      "\n",
      "k = 10\n",
      "accuracy: 63.23529411764706%\n",
      "confustion matrix: \n",
      " [[30  7]\n",
      " [18 13]]\n",
      "false positives: 18\n",
      "false negatives: 7\n",
      "sensitivity: 41.94%\n",
      "specificity: 81.08%\n",
      "\n",
      "\n"
     ]
    }
   ],
   "source": [
    "k = 11\n",
    "cross_val = cross_validation(bnb, data, target, k)\n",
    "\n",
    "print(cross_val[0])\n",
    "print('mean: {}%'.format(np.mean(cross_val[0])*100))\n",
    "print('standard deviation: {}%'.format(np.std(cross_val[0])*100))\n",
    "\n",
    "for i in range(k):\n",
    "    mat = cross_val[1][i]\n",
    "    false_pos = mat[1][0]\n",
    "    false_neg = mat[0][1]\n",
    "    specificity = mat[0][0]/sum(mat[0])\n",
    "    sensitivity = mat[1][1]/sum(mat[1])\n",
    "    \n",
    "    print('k = {}'.format(i))\n",
    "    print('accuracy: {}%'.format(cross_val[0][i]*100))\n",
    "    print('confustion matrix: \\n {}'.format(mat))\n",
    "    print('false positives: {}'.format(false_pos))\n",
    "    print('false negatives: {}'.format(false_neg))\n",
    "    print('sensitivity: {:.4}%'.format(sensitivity*100))\n",
    "    print('specificity: {:.4}%'.format(specificity*100))\n",
    "    print('\\n')"
   ]
  },
  {
   "cell_type": "markdown",
   "metadata": {},
   "source": [
    "# Testing the other data"
   ]
  },
  {
   "cell_type": "code",
   "execution_count": 19,
   "metadata": {},
   "outputs": [
    {
     "name": "stdout",
     "output_type": "stream",
     "text": [
      "Number of mislabeled points out of a total 1000 points : 404\n",
      "40.400000000000006% mislabeled\n",
      "Number of correctly identified points out of a total 1000 points : 596\n",
      "Accuracy = 59.6%\n",
      "confustion matrix: \n",
      " [[461  39]\n",
      " [365 135]]\n",
      "false positives: 365\n",
      "false negatives: 39\n",
      "sensitivity: 27.0%\n",
      "specificity: 92.2%\n"
     ]
    }
   ],
   "source": [
    "df1 = pd.read_csv('sentiment labelled sentences/yelp_labelled.txt', delimiter='\\t', header=None)\n",
    "\n",
    "df1.columns = ['review', 'score']\n",
    "df1['review'] = df1['review'].str.lower()\n",
    "#score - bad is 0, good is 1\n",
    "\n",
    "#turning score column into boolean - where True is BAD.\n",
    "#Don't run this column more than once!!! otherwise everything False\n",
    "df1['score'] = (df1['score'] == 0)\n",
    "\n",
    "#chose these keywords based off of words that you might find most likely to be in a bad yelp review\n",
    "for key in keywords:\n",
    "    df1[str(key)] = df1.review.str.contains(str(key), case=False)\n",
    "\n",
    "data1 = df1[keywords]   \n",
    "target1 = df1['score']  \n",
    "    \n",
    "#classify, storing the result in a new variable\n",
    "y_pred1 = bnb.predict(data1)\n",
    "\n",
    "#displaying results\n",
    "print('Number of mislabeled points out of a total {} points : {}'.format(data1.shape[0], (target1 != y_pred1).sum()))\n",
    "\n",
    "print('{}% mislabeled'.format((target1 != y_pred1).sum()/data1.shape[0]*100))\n",
    "\n",
    "# Calculate the accuracy of your model here.\n",
    "print('Number of correctly identified points out of a total {} points : {}'.format(\n",
    "    data1.shape[0], \n",
    "    (target1 == y_pred1).sum()\n",
    "))\n",
    "\n",
    "print('Accuracy = {:.4}%'.format((target1 == y_pred1).sum()/data1.shape[0]*100))\n",
    "\n",
    "from sklearn.metrics import confusion_matrix\n",
    "mat1 = confusion_matrix(target1, y_pred1)\n",
    "false_pos = mat1[1][0]\n",
    "false_neg = mat1[0][1]\n",
    "specificity = mat1[0][0]/sum(mat1[0])\n",
    "sensitivity = mat1[1][1]/sum(mat1[1])\n",
    "\n",
    "print('confustion matrix: \\n {}'.format(mat1))\n",
    "print('false positives: {}'.format(false_pos))\n",
    "print('false negatives: {}'.format(false_neg))\n",
    "print('sensitivity: {:.4}%'.format(sensitivity*100))\n",
    "print('specificity: {:.4}%'.format(specificity*100))"
   ]
  },
  {
   "cell_type": "code",
   "execution_count": 20,
   "metadata": {},
   "outputs": [
    {
     "name": "stdout",
     "output_type": "stream",
     "text": [
      "Number of mislabeled points out of a total 1000 points : 413\n",
      "41.3% mislabeled\n",
      "Number of correctly identified points out of a total 1000 points : 587\n",
      "Accuracy = 58.7%\n",
      "confustion matrix: \n",
      " [[448  52]\n",
      " [361 139]]\n",
      "false positives: 361\n",
      "false negatives: 52\n",
      "sensitivity: 27.8%\n",
      "specificity: 89.6%\n"
     ]
    }
   ],
   "source": [
    "df2 = pd.read_csv('sentiment labelled sentences/amazon_cells_labelled.txt', delimiter='\\t', header=None)\n",
    "\n",
    "df2.columns = ['review', 'score']\n",
    "df2['review'] = df2['review'].str.lower()\n",
    "#score - bad is 0, good is 1\n",
    "\n",
    "#turning score column into boolean - where True is BAD.\n",
    "#Don't run this column more than once!!! otherwise everything False\n",
    "df2['score'] = (df2['score'] == 0)\n",
    "\n",
    "#chose these keywords based off of words that you might find most likely to be in a bad yelp review\n",
    "for key in keywords:\n",
    "    df2[str(key)] = df2.review.str.contains(str(key), case=False)\n",
    "\n",
    "data2 = df2[keywords]   \n",
    "target2 = df2['score']  \n",
    "    \n",
    "#classify, storing the result in a new variable\n",
    "y_pred2 = bnb.predict(data2)\n",
    "\n",
    "#displaying results\n",
    "print('Number of mislabeled points out of a total {} points : {}'.format(data1.shape[0], (target2 != y_pred2).sum()))\n",
    "\n",
    "print('{}% mislabeled'.format((target2 != y_pred2).sum()/data2.shape[0]*100))\n",
    "\n",
    "# Calculate the accuracy of your model here.\n",
    "print('Number of correctly identified points out of a total {} points : {}'.format(\n",
    "    data2.shape[0], \n",
    "    (target2 == y_pred2).sum()\n",
    "))\n",
    "\n",
    "print('Accuracy = {:.4}%'.format((target2 == y_pred2).sum()/data2.shape[0]*100))\n",
    "\n",
    "from sklearn.metrics import confusion_matrix\n",
    "mat2 = confusion_matrix(target2, y_pred2)\n",
    "false_pos = mat2[1][0]\n",
    "false_neg = mat2[0][1]\n",
    "specificity = mat2[0][0]/sum(mat2[0])\n",
    "sensitivity = mat2[1][1]/sum(mat2[1])\n",
    "\n",
    "print('confustion matrix: \\n {}'.format(mat2))\n",
    "print('false positives: {}'.format(false_pos))\n",
    "print('false negatives: {}'.format(false_neg))\n",
    "print('sensitivity: {:.4}%'.format(sensitivity*100))\n",
    "print('specificity: {:.4}%'.format(specificity*100))"
   ]
  },
  {
   "cell_type": "code",
   "execution_count": null,
   "metadata": {},
   "outputs": [],
   "source": []
  }
 ],
 "metadata": {
  "kernelspec": {
   "display_name": "Python 3",
   "language": "python",
   "name": "python3"
  },
  "language_info": {
   "codemirror_mode": {
    "name": "ipython",
    "version": 3
   },
   "file_extension": ".py",
   "mimetype": "text/x-python",
   "name": "python",
   "nbconvert_exporter": "python",
   "pygments_lexer": "ipython3",
   "version": "3.7.0"
  }
 },
 "nbformat": 4,
 "nbformat_minor": 2
}
