{
 "cells": [
  {
   "cell_type": "code",
   "execution_count": 1,
   "metadata": {},
   "outputs": [],
   "source": [
    "import numpy as np\n",
    "import pandas as pd\n",
    "import matplotlib.pyplot as plt\n",
    "import seaborn as sns\n",
    "import nltk\n",
    "\n",
    "%matplotlib inline"
   ]
  },
  {
   "cell_type": "code",
   "execution_count": 2,
   "metadata": {},
   "outputs": [],
   "source": [
    "df = pd.read_csv('sentiment labelled sentences/yelp_labelled.txt', delimiter='\\t', header=None)\n",
    "\n",
    "df.columns = ['review', 'score']\n",
    "df['review'] = df['review'].str.lower()\n",
    "df['review'] = df['review'].str.replace('.', ' ')\n",
    "df['review'] = df['review'].str.replace(',', ' ')\n",
    "df['review'] = df['review'].str.replace('!', ' ')\n",
    "\n",
    "from nltk.corpus import stopwords\n",
    "stop = stopwords.words('english')\n",
    "\n",
    "words = df['review'].str.split().apply(lambda x: [item for item in x if item not in stop])\n",
    "\n",
    "#score - bad is 0, good is 1\n",
    "\n",
    "#turning score column into boolean - where True is BAD.\n",
    "#Don't run this column more than once!!! otherwise everything False\n",
    "df['score'] = (df['score'] == 0)"
   ]
  },
  {
   "cell_type": "code",
   "execution_count": 3,
   "metadata": {},
   "outputs": [
    {
     "data": {
      "text/plain": [
       "1.0"
      ]
     },
     "execution_count": 3,
     "metadata": {},
     "output_type": "execute_result"
    }
   ],
   "source": [
    "np.sum(df['score']==True)/np.sum(df['score']==False)"
   ]
  },
  {
   "cell_type": "markdown",
   "metadata": {},
   "source": [
    "This indicates that there is no class imbalace since there are an equal number of good and bad reviews and there is not a significant difference between one or the other. "
   ]
  },
  {
   "cell_type": "code",
   "execution_count": 4,
   "metadata": {},
   "outputs": [
    {
     "data": {
      "text/html": [
       "<div>\n",
       "<style scoped>\n",
       "    .dataframe tbody tr th:only-of-type {\n",
       "        vertical-align: middle;\n",
       "    }\n",
       "\n",
       "    .dataframe tbody tr th {\n",
       "        vertical-align: top;\n",
       "    }\n",
       "\n",
       "    .dataframe thead th {\n",
       "        text-align: right;\n",
       "    }\n",
       "</style>\n",
       "<table border=\"1\" class=\"dataframe\">\n",
       "  <thead>\n",
       "    <tr style=\"text-align: right;\">\n",
       "      <th></th>\n",
       "      <th>review</th>\n",
       "      <th>score</th>\n",
       "    </tr>\n",
       "  </thead>\n",
       "  <tbody>\n",
       "    <tr>\n",
       "      <th>0</th>\n",
       "      <td>wow    loved this place</td>\n",
       "      <td>False</td>\n",
       "    </tr>\n",
       "    <tr>\n",
       "      <th>1</th>\n",
       "      <td>crust is not good</td>\n",
       "      <td>True</td>\n",
       "    </tr>\n",
       "    <tr>\n",
       "      <th>2</th>\n",
       "      <td>not tasty and the texture was just nasty</td>\n",
       "      <td>True</td>\n",
       "    </tr>\n",
       "    <tr>\n",
       "      <th>3</th>\n",
       "      <td>stopped by during the late may bank holiday of...</td>\n",
       "      <td>False</td>\n",
       "    </tr>\n",
       "    <tr>\n",
       "      <th>4</th>\n",
       "      <td>the selection on the menu was great and so wer...</td>\n",
       "      <td>False</td>\n",
       "    </tr>\n",
       "  </tbody>\n",
       "</table>\n",
       "</div>"
      ],
      "text/plain": [
       "                                              review  score\n",
       "0                           wow    loved this place   False\n",
       "1                                 crust is not good    True\n",
       "2          not tasty and the texture was just nasty    True\n",
       "3  stopped by during the late may bank holiday of...  False\n",
       "4  the selection on the menu was great and so wer...  False"
      ]
     },
     "execution_count": 4,
     "metadata": {},
     "output_type": "execute_result"
    }
   ],
   "source": [
    "df.head()"
   ]
  },
  {
   "cell_type": "code",
   "execution_count": 5,
   "metadata": {},
   "outputs": [],
   "source": [
    "bad = np.where(df['score'] == True)\n",
    "good = np.where(df['score'] == False)"
   ]
  },
  {
   "cell_type": "code",
   "execution_count": 6,
   "metadata": {},
   "outputs": [],
   "source": [
    "from collections import Counter \n",
    "\n",
    "n = 150\n",
    "\n",
    "Counter_bad = Counter(np.concatenate(np.asanyarray((words.iloc[bad])))) \n",
    "  \n",
    "# most_common() produces n frequently encountered \n",
    "# input values and their respective counts. \n",
    "most_occur_bad = np.asanyarray(Counter_bad.most_common(n))\n",
    "bad_words = most_occur_bad[:,0]\n",
    "\n",
    "\n",
    "Counter_good = Counter(np.concatenate(np.asanyarray((words.iloc[good])))) \n",
    "most_occur_good = np.asanyarray(Counter_good.most_common(n))\n",
    "good_words = most_occur_good[:,0]"
   ]
  },
  {
   "cell_type": "code",
   "execution_count": 7,
   "metadata": {},
   "outputs": [],
   "source": [
    "keywords = []\n",
    "\n",
    "for i in bad_words:\n",
    "    dup_found = False\n",
    "    for j in good_words:\n",
    "        if i == j:\n",
    "            dup_found = True\n",
    "    if not dup_found:\n",
    "        keywords.append(i)"
   ]
  },
  {
   "cell_type": "code",
   "execution_count": 8,
   "metadata": {},
   "outputs": [],
   "source": [
    "#chose these keywords based off of words that you might find most likely to be in a bad yelp review\n",
    "for key in keywords:\n",
    "    df[str(key)] = df.review.str.contains(str(key), case=False)"
   ]
  },
  {
   "cell_type": "code",
   "execution_count": 9,
   "metadata": {},
   "outputs": [
    {
     "data": {
      "image/png": "[encoded data removed]",
      "text/plain": [
       "<Figure size 720x576 with 2 Axes>"
      ]
     },
     "metadata": {},
     "output_type": "display_data"
    }
   ],
   "source": [
    "#making sure that my features are relatively independent of eachother.\n",
    "plt.figure(figsize = (10,8))\n",
    "sns.heatmap(df.corr())\n",
    "\n",
    "plt.show()"
   ]
  },
  {
   "cell_type": "code",
   "execution_count": 10,
   "metadata": {},
   "outputs": [],
   "source": [
    "#training data\n",
    "data = df[keywords]\n",
    "target = df['score']"
   ]
  },
  {
   "cell_type": "code",
   "execution_count": 11,
   "metadata": {},
   "outputs": [
    {
     "name": "stdout",
     "output_type": "stream",
     "text": [
      "Number of mislabeled points out of a total 1000 points : 244\n",
      "24.4% mislabeled\n",
      "Number of correctly identified points out of a total 1000 points : 756\n",
      "Accuracy = 75.6%\n",
      "confustion matrix: \n",
      " [[463  37]\n",
      " [207 293]]\n",
      "false positives: 207\n",
      "false negatives: 37\n",
      "sensitivity: 58.6%\n",
      "specificity: 92.6%\n"
     ]
    }
   ],
   "source": [
    "#since the data is binary, import Bernoulli class\n",
    "from sklearn.naive_bayes import BernoulliNB\n",
    "\n",
    "#instantiate our model and store it in a new variable\n",
    "bnb = BernoulliNB()\n",
    "\n",
    "#fit model to data\n",
    "bnb.fit(data, target)\n",
    "\n",
    "#classify, storing the result in a new variable\n",
    "y_pred = bnb.predict(data)\n",
    "\n",
    "#displaying results\n",
    "print('Number of mislabeled points out of a total {} points : {}'.format(data.shape[0], (target != y_pred).sum()))\n",
    "\n",
    "print('{}% mislabeled'.format((target != y_pred).sum()/data.shape[0]*100))\n",
    "\n",
    "# Calculate the accuracy of your model here.\n",
    "print('Number of correctly identified points out of a total {} points : {}'.format(\n",
    "    data.shape[0], \n",
    "    (target == y_pred).sum()\n",
    "))\n",
    "\n",
    "print('Accuracy = {:.4}%'.format((target == y_pred).sum()/data.shape[0]*100))\n",
    "\n",
    "from sklearn.metrics import confusion_matrix\n",
    "mat = confusion_matrix(target, y_pred)\n",
    "false_pos = mat[1][0]\n",
    "false_neg = mat[0][1]\n",
    "specificity = mat[0][0]/sum(mat[0])\n",
    "sensitivity = mat[1][1]/sum(mat[1])\n",
    "\n",
    "print('confustion matrix: \\n {}'.format(mat))\n",
    "print('false positives: {}'.format(false_pos))\n",
    "print('false negatives: {}'.format(false_neg))\n",
    "print('sensitivity: {:.4}%'.format(sensitivity*100))\n",
    "print('specificity: {:.4}%'.format(specificity*100))"
   ]
  },
  {
   "cell_type": "code",
   "execution_count": 17,
   "metadata": {},
   "outputs": [
    {
     "name": "stdout",
     "output_type": "stream",
     "text": [
      "[0.73053892 0.69760479 0.71686747]\n",
      "mean: 71.50037274847895%\n",
      "standard deviation: 1.3509735010851969%\n"
     ]
    }
   ],
   "source": [
    "from sklearn.model_selection import cross_val_score\n",
    "cross_validation = cross_val_score(bnb, data, target, cv=3)\n",
    "\n",
    "print(cross_validation)\n",
    "print('mean: {}%'.format(np.mean(cross_validation)*100))\n",
    "print('standard deviation: {}%'.format(np.std(cross_validation)*100))"
   ]
  },
  {
   "cell_type": "code",
   "execution_count": 13,
   "metadata": {},
   "outputs": [],
   "source": [
    "# Implement your own cross validation with your spam model.\n",
    "def cross_validation(fit, data, target, k):\n",
    "    from sklearn.metrics import confusion_matrix\n",
    "\n",
    "    #fit = bnb\n",
    "    #k = number of folds - must be a value that allows equal split\n",
    "    \n",
    "    rand_data = data.sample(frac=1)\n",
    "    n_data = np.split(rand_data, indices_or_sections=k)\n",
    "    \n",
    "    vals = []\n",
    "    matrices = []\n",
    "    \n",
    "    for i in range(len(n_data)):\n",
    "        index = n_data[i].index\n",
    "        \n",
    "        test_data = data.drop(index, axis=0)\n",
    "        test_target = target.drop(index, axis=0)\n",
    "        vals.append(bnb.fit(test_data, test_target).score(n_data[i], target[index]))\n",
    "        \n",
    "        y_pred = bnb.predict(n_data[i])\n",
    "        matrices.append(confusion_matrix(target[index], y_pred))\n",
    "        \n",
    "    return vals, matrices"
   ]
  },
  {
   "cell_type": "code",
   "execution_count": 14,
   "metadata": {},
   "outputs": [
    {
     "name": "stdout",
     "output_type": "stream",
     "text": [
      "[0.71, 0.71, 0.66, 0.69, 0.69, 0.75, 0.7, 0.74, 0.73, 0.79]\n",
      "mean: 71.7%\n",
      "standard deviation: 3.4942810419312313%\n",
      "k = 0\n",
      "accuracy: 71.0%\n",
      "confustion matrix: \n",
      " [[49  4]\n",
      " [25 22]]\n",
      "false positives: 25\n",
      "false negatives: 4\n",
      "sensitivity: 46.81%\n",
      "specificity: 92.45%\n",
      "\n",
      "\n",
      "k = 1\n",
      "accuracy: 71.0%\n",
      "confustion matrix: \n",
      " [[38  5]\n",
      " [24 33]]\n",
      "false positives: 24\n",
      "false negatives: 5\n",
      "sensitivity: 57.89%\n",
      "specificity: 88.37%\n",
      "\n",
      "\n",
      "k = 2\n",
      "accuracy: 66.0%\n",
      "confustion matrix: \n",
      " [[37  6]\n",
      " [28 29]]\n",
      "false positives: 28\n",
      "false negatives: 6\n",
      "sensitivity: 50.88%\n",
      "specificity: 86.05%\n",
      "\n",
      "\n",
      "k = 3\n",
      "accuracy: 69.0%\n",
      "confustion matrix: \n",
      " [[46  7]\n",
      " [24 23]]\n",
      "false positives: 24\n",
      "false negatives: 7\n",
      "sensitivity: 48.94%\n",
      "specificity: 86.79%\n",
      "\n",
      "\n",
      "k = 4\n",
      "accuracy: 69.0%\n",
      "confustion matrix: \n",
      " [[40  6]\n",
      " [25 29]]\n",
      "false positives: 25\n",
      "false negatives: 6\n",
      "sensitivity: 53.7%\n",
      "specificity: 86.96%\n",
      "\n",
      "\n",
      "k = 5\n",
      "accuracy: 75.0%\n",
      "confustion matrix: \n",
      " [[46 12]\n",
      " [13 29]]\n",
      "false positives: 13\n",
      "false negatives: 12\n",
      "sensitivity: 69.05%\n",
      "specificity: 79.31%\n",
      "\n",
      "\n",
      "k = 6\n",
      "accuracy: 70.0%\n",
      "confustion matrix: \n",
      " [[42  7]\n",
      " [23 28]]\n",
      "false positives: 23\n",
      "false negatives: 7\n",
      "sensitivity: 54.9%\n",
      "specificity: 85.71%\n",
      "\n",
      "\n",
      "k = 7\n",
      "accuracy: 74.0%\n",
      "confustion matrix: \n",
      " [[43  6]\n",
      " [20 31]]\n",
      "false positives: 20\n",
      "false negatives: 6\n",
      "sensitivity: 60.78%\n",
      "specificity: 87.76%\n",
      "\n",
      "\n",
      "k = 8\n",
      "accuracy: 73.0%\n",
      "confustion matrix: \n",
      " [[49  6]\n",
      " [21 24]]\n",
      "false positives: 21\n",
      "false negatives: 6\n",
      "sensitivity: 53.33%\n",
      "specificity: 89.09%\n",
      "\n",
      "\n",
      "k = 9\n",
      "accuracy: 79.0%\n",
      "confustion matrix: \n",
      " [[47  4]\n",
      " [17 32]]\n",
      "false positives: 17\n",
      "false negatives: 4\n",
      "sensitivity: 65.31%\n",
      "specificity: 92.16%\n",
      "\n",
      "\n"
     ]
    }
   ],
   "source": [
    "k = 10\n",
    "cross_val = cross_validation(bnb, data, target, k)\n",
    "\n",
    "print(cross_val[0])\n",
    "print('mean: {}%'.format(np.mean(cross_val[0])*100))\n",
    "print('standard deviation: {}%'.format(np.std(cross_val[0])*100))\n",
    "\n",
    "for i in range(k):\n",
    "    mat = cross_val[1][i]\n",
    "    false_pos = mat[1][0]\n",
    "    false_neg = mat[0][1]\n",
    "    specificity = mat[0][0]/sum(mat[0])\n",
    "    sensitivity = mat[1][1]/sum(mat[1])\n",
    "    \n",
    "    print('k = {}'.format(i))\n",
    "    print('accuracy: {}%'.format(cross_val[0][i]*100))\n",
    "    print('confustion matrix: \\n {}'.format(mat))\n",
    "    print('false positives: {}'.format(false_pos))\n",
    "    print('false negatives: {}'.format(false_neg))\n",
    "    print('sensitivity: {:.4}%'.format(sensitivity*100))\n",
    "    print('specificity: {:.4}%'.format(specificity*100))\n",
    "    print('\\n')"
   ]
  },
  {
   "cell_type": "markdown",
   "metadata": {},
   "source": [
    "# Testing the other data"
   ]
  },
  {
   "cell_type": "code",
   "execution_count": 15,
   "metadata": {},
   "outputs": [
    {
     "name": "stdout",
     "output_type": "stream",
     "text": [
      "Number of mislabeled points out of a total 748 points : 311\n",
      "41.57754010695187% mislabeled\n",
      "Number of correctly identified points out of a total 748 points : 437\n",
      "Accuracy = 58.42%\n",
      "confustion matrix: \n",
      " [[275 111]\n",
      " [200 162]]\n",
      "false positives: 200\n",
      "false negatives: 111\n",
      "sensitivity: 44.75%\n",
      "specificity: 71.24%\n"
     ]
    }
   ],
   "source": [
    "df1 = pd.read_csv('sentiment labelled sentences/imdb_labelled.txt', delimiter='\\t', header=None)\n",
    "\n",
    "df1.columns = ['review', 'score']\n",
    "df1['review'] = df1['review'].str.lower()\n",
    "#score - bad is 0, good is 1\n",
    "\n",
    "#turning score column into boolean - where True is BAD.\n",
    "#Don't run this column more than once!!! otherwise everything False\n",
    "df1['score'] = (df1['score'] == 0)\n",
    "\n",
    "#chose these keywords based off of words that you might find most likely to be in a bad yelp review\n",
    "for key in keywords:\n",
    "    df1[str(key)] = df1.review.str.contains(str(key), case=False)\n",
    "\n",
    "data1 = df1[keywords]   \n",
    "target1 = df1['score']  \n",
    "    \n",
    "#classify, storing the result in a new variable\n",
    "y_pred1 = bnb.predict(data1)\n",
    "\n",
    "#displaying results\n",
    "print('Number of mislabeled points out of a total {} points : {}'.format(data1.shape[0], (target1 != y_pred1).sum()))\n",
    "\n",
    "print('{}% mislabeled'.format((target1 != y_pred1).sum()/data1.shape[0]*100))\n",
    "\n",
    "# Calculate the accuracy of your model here.\n",
    "print('Number of correctly identified points out of a total {} points : {}'.format(\n",
    "    data1.shape[0], \n",
    "    (target1 == y_pred1).sum()\n",
    "))\n",
    "\n",
    "print('Accuracy = {:.4}%'.format((target1 == y_pred1).sum()/data1.shape[0]*100))\n",
    "\n",
    "from sklearn.metrics import confusion_matrix\n",
    "mat1 = confusion_matrix(target1, y_pred1)\n",
    "false_pos = mat1[1][0]\n",
    "false_neg = mat1[0][1]\n",
    "specificity = mat1[0][0]/sum(mat1[0])\n",
    "sensitivity = mat1[1][1]/sum(mat1[1])\n",
    "\n",
    "print('confustion matrix: \\n {}'.format(mat1))\n",
    "print('false positives: {}'.format(false_pos))\n",
    "print('false negatives: {}'.format(false_neg))\n",
    "print('sensitivity: {:.4}%'.format(sensitivity*100))\n",
    "print('specificity: {:.4}%'.format(specificity*100))"
   ]
  },
  {
   "cell_type": "code",
   "execution_count": 16,
   "metadata": {},
   "outputs": [
    {
     "name": "stdout",
     "output_type": "stream",
     "text": [
      "Number of mislabeled points out of a total 748 points : 405\n",
      "40.5% mislabeled\n",
      "Number of correctly identified points out of a total 1000 points : 595\n",
      "Accuracy = 59.5%\n",
      "confustion matrix: \n",
      " [[418  82]\n",
      " [323 177]]\n",
      "false positives: 323\n",
      "false negatives: 82\n",
      "sensitivity: 35.4%\n",
      "specificity: 83.6%\n"
     ]
    }
   ],
   "source": [
    "df2 = pd.read_csv('sentiment labelled sentences/amazon_cells_labelled.txt', delimiter='\\t', header=None)\n",
    "\n",
    "df2.columns = ['review', 'score']\n",
    "df2['review'] = df2['review'].str.lower()\n",
    "#score - bad is 0, good is 1\n",
    "\n",
    "#turning score column into boolean - where True is BAD.\n",
    "#Don't run this column more than once!!! otherwise everything False\n",
    "df2['score'] = (df2['score'] == 0)\n",
    "\n",
    "#chose these keywords based off of words that you might find most likely to be in a bad yelp review\n",
    "for key in keywords:\n",
    "    df2[str(key)] = df2.review.str.contains(str(key), case=False)\n",
    "\n",
    "data2 = df2[keywords]   \n",
    "target2 = df2['score']  \n",
    "    \n",
    "#classify, storing the result in a new variable\n",
    "y_pred2 = bnb.predict(data2)\n",
    "\n",
    "#displaying results\n",
    "print('Number of mislabeled points out of a total {} points : {}'.format(data1.shape[0], (target2 != y_pred2).sum()))\n",
    "\n",
    "print('{}% mislabeled'.format((target2 != y_pred2).sum()/data2.shape[0]*100))\n",
    "\n",
    "# Calculate the accuracy of your model here.\n",
    "print('Number of correctly identified points out of a total {} points : {}'.format(\n",
    "    data2.shape[0], \n",
    "    (target2 == y_pred2).sum()\n",
    "))\n",
    "\n",
    "print('Accuracy = {:.4}%'.format((target2 == y_pred2).sum()/data2.shape[0]*100))\n",
    "\n",
    "from sklearn.metrics import confusion_matrix\n",
    "mat2 = confusion_matrix(target2, y_pred2)\n",
    "false_pos = mat2[1][0]\n",
    "false_neg = mat2[0][1]\n",
    "specificity = mat2[0][0]/sum(mat2[0])\n",
    "sensitivity = mat2[1][1]/sum(mat2[1])\n",
    "\n",
    "print('confustion matrix: \\n {}'.format(mat2))\n",
    "print('false positives: {}'.format(false_pos))\n",
    "print('false negatives: {}'.format(false_neg))\n",
    "print('sensitivity: {:.4}%'.format(sensitivity*100))\n",
    "print('specificity: {:.4}%'.format(specificity*100))"
   ]
  },
  {
   "cell_type": "code",
   "execution_count": null,
   "metadata": {},
   "outputs": [],
   "source": []
  }
 ],
 "metadata": {
  "kernelspec": {
   "display_name": "Python 3",
   "language": "python",
   "name": "python3"
  },
  "language_info": {
   "codemirror_mode": {
    "name": "ipython",
    "version": 3
   },
   "file_extension": ".py",
   "mimetype": "text/x-python",
   "name": "python",
   "nbconvert_exporter": "python",
   "pygments_lexer": "ipython3",
   "version": "3.7.0"
  }
 },
 "nbformat": 4,
 "nbformat_minor": 2
}
